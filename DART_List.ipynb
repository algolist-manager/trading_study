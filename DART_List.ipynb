{
 "cells": [
  {
   "cell_type": "code",
   "execution_count": null,
   "metadata": {},
   "outputs": [],
   "source": [
    "#This code download list of firms for formtype / year and save it to ./getReporting"
   ]
  },
  {
   "cell_type": "code",
   "execution_count": null,
   "metadata": {},
   "outputs": [],
   "source": [
    "import pandas as pd\n",
    "import urllib.request\n",
    "import os\n",
    "import re\n",
    "from datetime import date, timedelta"
   ]
  },
  {
   "cell_type": "code",
   "execution_count": null,
   "metadata": {},
   "outputs": [],
   "source": [
    "def DUMPJSON(inputdict, filename):\n",
    "    d = json.dumps(inputdict, indent=4, ensure_ascii=False)\n",
    "    c = open(filename, \"w\")\n",
    "    print(d, file = c)\n",
    "    c.close()"
   ]
  },
  {
   "cell_type": "code",
   "execution_count": null,
   "metadata": {},
   "outputs": [],
   "source": [
    "key = \"\""
   ]
  },
  {
   "cell_type": "code",
   "execution_count": null,
   "metadata": {},
   "outputs": [],
   "source": [
    "#year = 2015\n",
    "\n",
    "year = str(sys.argv[1])\n",
    "formtype = \"A001\""
   ]
  },
  {
   "cell_type": "code",
   "execution_count": null,
   "metadata": {},
   "outputs": [],
   "source": [
    "sdate = date(year, 1, 1)     # start date\n",
    "edate = date(year, 12, 31)   # end date\n",
    "\n",
    "delta = edate - sdate        # as timedelta\n",
    "\n",
    "dlist = []\n",
    "for i in range(delta.days + 1):\n",
    "    day = sdate + timedelta(days=i)\n",
    "    dlist.append(day)"
   ]
  },
  {
   "cell_type": "code",
   "execution_count": null,
   "metadata": {
    "scrolled": true
   },
   "outputs": [],
   "source": [
    "T = []\n",
    "for d in dlist:\n",
    "    date = d.strftime(\"%Y%m%d\")\n",
    "    print(date)\n",
    "    URL = \"\"\"\n",
    "        https://opendart.fss.or.kr/api/list.json?crtfc_key={}&pblntf_detail_ty={}&bgn_de={}&end_de={}&page_no=1&page_count=1000\n",
    "        \"\"\".format(key, formtype, date, date)\n",
    "    K  = urllib.request.urlopen(URL).read().decode('utf-8')\n",
    "    K0 = json.loads(K)\n",
    "    if K0['status'] != '000':\n",
    "        continue\n",
    "    T = T + K0['list']\n",
    "    if K0['total_page'] > 1:\n",
    "        for page in range(2, int(K0['total_page'])+1):\n",
    "            URL = \"\"\"\n",
    "                https://opendart.fss.or.kr/api/list.json?crtfc_key={}&pblntf_detail_ty={}&bgn_de={}&end_de={}&page_no={}&page_count=1000\n",
    "                \"\"\".format(key, formtype, date, date, page)\n",
    "            K  = urllib.request.urlopen(URL).read().decode('utf-8')\n",
    "            K0 = json.loads(K)\n",
    "            T = T + K0['list']\n",
    "    #time.sleep(1)"
   ]
  },
  {
   "cell_type": "code",
   "execution_count": null,
   "metadata": {},
   "outputs": [],
   "source": [
    "#corp_cls = Y #Kospi / corp_cls = K #Kosdaq"
   ]
  },
  {
   "cell_type": "code",
   "execution_count": null,
   "metadata": {},
   "outputs": [],
   "source": []
  },
  {
   "cell_type": "code",
   "execution_count": null,
   "metadata": {},
   "outputs": [],
   "source": []
  }
 ],
 "metadata": {
  "kernelspec": {
   "display_name": "Python 3",
   "language": "python",
   "name": "python3"
  },
  "language_info": {
   "codemirror_mode": {
    "name": "ipython",
    "version": 3
   },
   "file_extension": ".py",
   "mimetype": "text/x-python",
   "name": "python",
   "nbconvert_exporter": "python",
   "pygments_lexer": "ipython3",
   "version": "3.7.3"
  }
 },
 "nbformat": 4,
 "nbformat_minor": 2
}